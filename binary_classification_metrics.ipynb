{
 "cells": [
  {
   "cell_type": "code",
   "execution_count": 1,
   "id": "1ec7eb19-528e-4f6a-96f6-fde90ca0e836",
   "metadata": {
    "tags": []
   },
   "outputs": [],
   "source": [
    "#!conda create -n metrics python=3.11 ipykernel -y"
   ]
  },
  {
   "cell_type": "code",
   "execution_count": 2,
   "id": "82e2f826-1c7e-4f7a-93d8-d990947e6963",
   "metadata": {
    "tags": []
   },
   "outputs": [],
   "source": [
    "#!activate metrics"
   ]
  },
  {
   "cell_type": "code",
   "execution_count": 3,
   "id": "4b86ad4e-6ba8-4a0f-8c0e-0418ea03a4b9",
   "metadata": {},
   "outputs": [],
   "source": [
    "#!python -m ipykernel install --user --name=metrics"
   ]
  },
  {
   "cell_type": "code",
   "execution_count": 4,
   "id": "ddaf5cd0-cca9-4546-9d69-0d94da88e451",
   "metadata": {},
   "outputs": [],
   "source": [
    "#!conda info --envs"
   ]
  },
  {
   "cell_type": "code",
   "execution_count": 5,
   "id": "aa2272d4-5e90-4cc0-8a1d-3031b05250f4",
   "metadata": {
    "tags": []
   },
   "outputs": [],
   "source": [
    "# import sys\n",
    "# print(sys.executable)"
   ]
  },
  {
   "cell_type": "markdown",
   "id": "c842c72c-866d-4779-b5ff-3af834e78e69",
   "metadata": {},
   "source": [
    "#### scenario 1: when dataset is imbalanced"
   ]
  },
  {
   "cell_type": "code",
   "execution_count": 6,
   "id": "c35acc47-a10f-4c01-92f1-634b12878480",
   "metadata": {},
   "outputs": [],
   "source": [
    "# creating random two arrays and considering them as actuals and predicted from any ML model\n",
    "import random\n",
    "\n",
    "actuals = [random.randrange(0,1) for i in range(0,1000)]+[0,0,0,0,1]   #making the data imbalanced\n",
    "predicted=[random.randrange(0,1) for i in range(0,1000)]+[1,1,1,1,1]"
   ]
  },
  {
   "cell_type": "code",
   "execution_count": 7,
   "id": "ac0846d9-ea10-45a5-89eb-b87d7f711942",
   "metadata": {},
   "outputs": [
    {
     "name": "stdout",
     "output_type": "stream",
     "text": [
      "              precision    recall  f1-score   support\n",
      "\n",
      "           0       1.00      1.00      1.00      1004\n",
      "           1       0.20      1.00      0.33         1\n",
      "\n",
      "    accuracy                           1.00      1005\n",
      "   macro avg       0.60      1.00      0.67      1005\n",
      "weighted avg       1.00      1.00      1.00      1005\n",
      "\n"
     ]
    }
   ],
   "source": [
    "from sklearn.metrics import classification_report\n",
    "print(classification_report(actuals,predicted))"
   ]
  },
  {
   "cell_type": "code",
   "execution_count": 8,
   "id": "54ab09b2-7f2b-480e-bd9b-b30e6c4e8191",
   "metadata": {},
   "outputs": [
    {
     "name": "stdout",
     "output_type": "stream",
     "text": [
      "[[1000    4]\n",
      " [   0    1]]\n"
     ]
    }
   ],
   "source": [
    "from sklearn.metrics import confusion_matrix\n",
    "print(confusion_matrix(actuals,predicted))"
   ]
  },
  {
   "cell_type": "code",
   "execution_count": 9,
   "id": "0f75b088-5b4d-4a8a-b473-e05839356636",
   "metadata": {},
   "outputs": [
    {
     "data": {
      "text/plain": [
       "(1000, 4, 0, 1)"
      ]
     },
     "execution_count": 9,
     "metadata": {},
     "output_type": "execute_result"
    }
   ],
   "source": [
    "tn, fp, fn, tp = confusion_matrix(actuals,predicted).ravel()\n",
    "tn, fp, fn, tp "
   ]
  },
  {
   "cell_type": "code",
   "execution_count": 10,
   "id": "3dd4b136-7c4a-4d2e-b1c4-a130d36fe5e4",
   "metadata": {},
   "outputs": [
    {
     "name": "stdout",
     "output_type": "stream",
     "text": [
      "1.0\n"
     ]
    }
   ],
   "source": [
    "# calculating true positive rate - which is recall - basically saying that - out of total positive classes we are predicting - how many of them is actually positive \n",
    "\n",
    "tpr=tp/(tp+fn)\n",
    "print(tpr)"
   ]
  },
  {
   "cell_type": "code",
   "execution_count": 11,
   "id": "0065c4d2-3058-49f7-8803-3637805cc4a3",
   "metadata": {},
   "outputs": [
    {
     "name": "stdout",
     "output_type": "stream",
     "text": [
      "0.00398406374501992\n"
     ]
    }
   ],
   "source": [
    "fpr=fp/(fp+tn)\n",
    "print(fpr)"
   ]
  },
  {
   "cell_type": "code",
   "execution_count": 12,
   "id": "036b4016-a7f1-41ed-b577-136d55efca04",
   "metadata": {},
   "outputs": [
    {
     "data": {
      "text/plain": [
       "0.99800796812749"
      ]
     },
     "execution_count": 12,
     "metadata": {},
     "output_type": "execute_result"
    }
   ],
   "source": [
    "# auc-roc score when imbalance dataset is there \n",
    "\n",
    "from sklearn.metrics import roc_auc_score\n",
    "roc_auc_score(actuals,predicted)"
   ]
  },
  {
   "cell_type": "markdown",
   "id": "02c0ffd2-d9d0-4c73-9821-087899a49332",
   "metadata": {},
   "source": [
    "##### above roc-auc is very high because it considers two things- true positive rate and false positive rate, here true positive rate is very high and false positive is very low due less no of instances - eventhough the ROC is very high the model is not so great the below blog contains when to apply which metrics in binary classification scenario\n",
    "https://neptune.ai/blog/f1-score-accuracy-roc-auc-pr-auc"
   ]
  },
  {
   "cell_type": "markdown",
   "id": "ebb5650e-5064-4277-abd8-66ef9acdda4c",
   "metadata": {},
   "source": [
    "##### in this kind of scenarios, we should be using ppv- positive predicive value(precision)"
   ]
  },
  {
   "cell_type": "code",
   "execution_count": 13,
   "id": "ece0f078-fbe0-4f27-ae9c-280e27f4ccc5",
   "metadata": {},
   "outputs": [
    {
     "name": "stdout",
     "output_type": "stream",
     "text": [
      "0.2\n"
     ]
    }
   ],
   "source": [
    "# out of all class predicted as positive how many of them actually positive\n",
    "ppv=tp/(tp+fp)\n",
    "print(ppv)"
   ]
  },
  {
   "cell_type": "code",
   "execution_count": null,
   "id": "6a970e81-4d82-42b0-a5e6-a7f356314489",
   "metadata": {},
   "outputs": [],
   "source": []
  },
  {
   "cell_type": "markdown",
   "id": "bd8998ab-dc42-4e3a-814a-9943da266ade",
   "metadata": {},
   "source": [
    "#### scenario 2: finding the probability threshold using pr curve - when we have minority class - its very important to have this in place"
   ]
  },
  {
   "cell_type": "code",
   "execution_count": 28,
   "id": "c8a35a1f-2fdc-4637-8708-6861df6f0fc6",
   "metadata": {},
   "outputs": [
    {
     "name": "stdout",
     "output_type": "stream",
     "text": [
      "              precision    recall  f1-score   support\n",
      "\n",
      "           0       1.00      1.00      1.00      4950\n",
      "           1       1.00      0.54      0.70        50\n",
      "\n",
      "    accuracy                           1.00      5000\n",
      "   macro avg       1.00      0.77      0.85      5000\n",
      "weighted avg       1.00      1.00      0.99      5000\n",
      "\n"
     ]
    },
    {
     "data": {
      "image/png": "[encoded data removed]",
      "text/plain": [
       "<Figure size 640x480 with 1 Axes>"
      ]
     },
     "metadata": {},
     "output_type": "display_data"
    }
   ],
   "source": [
    "# pr curve for logistic regression model\n",
    "from sklearn.datasets import make_classification\n",
    "from sklearn.linear_model import LogisticRegression\n",
    "from sklearn.model_selection import train_test_split\n",
    "from sklearn.metrics import precision_recall_curve\n",
    "from matplotlib import pyplot\n",
    "# generate dataset\n",
    "X, y = make_classification(n_samples=10000, n_features=2, n_redundant=0,n_clusters_per_class=1, weights=[0.99], flip_y=0, random_state=4)\n",
    "# split into train/test sets\n",
    "trainX, testX, trainy, testy = train_test_split(X, y, test_size=0.5, random_state=2, stratify=y)\n",
    "# fit a model\n",
    "model = LogisticRegression(solver='lbfgs')\n",
    "model.fit(trainX, trainy)\n",
    "# predict probabilities\n",
    "yhat = model.predict_proba(testX)\n",
    "print(classification_report(testy, model.predict(testX)))\n",
    "\n",
    "# keep probabilities for the positive outcome only\n",
    "yhat = yhat[:, 1]\n",
    "# calculate pr-curve\n",
    "precision, recall, thresholds = precision_recall_curve(testy, yhat)\n",
    "# plot the roc curve for the model\n",
    "no_skill = len(testy[testy==1]) / len(testy)\n",
    "pyplot.plot([0,1], [no_skill,no_skill], linestyle='--', label='No Skill')\n",
    "pyplot.plot(recall, precision, marker='.', label='Logistic')\n",
    "# axis labels\n",
    "pyplot.xlabel('Recall')\n",
    "pyplot.ylabel('Precision')\n",
    "pyplot.legend()\n",
    "# show the plot\n",
    "pyplot.show()"
   ]
  },
  {
   "cell_type": "markdown",
   "id": "b30abeff-1a3b-4686-8460-2b72c414d644",
   "metadata": {},
   "source": [
    "#### the above classification report is using the default threeshold of probability scores(0.5) but below we found what would be the ideal threshold for this particular scenario"
   ]
  },
  {
   "cell_type": "code",
   "execution_count": 26,
   "id": "61b48cf9-5dcb-4b04-8829-5a192d40f53c",
   "metadata": {},
   "outputs": [
    {
     "name": "stdout",
     "output_type": "stream",
     "text": [
      "Best Threshold=0.256036, F-Score=0.756\n"
     ]
    }
   ],
   "source": [
    "from numpy import argmax\n",
    "fscore = (2 * precision * recall) / (precision + recall)\n",
    "# locate the index of the largest f score\n",
    "ix = argmax(fscore)\n",
    "print('Best Threshold=%f, F-Score=%.3f' % (thresholds[ix], fscore[ix]))"
   ]
  },
  {
   "cell_type": "markdown",
   "id": "32d02c63-2594-465b-bfd4-1018d1d95a02",
   "metadata": {},
   "source": [
    "##### found out that if we change the threeshold to 0.25 from 0.5 we will be having better f1 score lets try that- "
   ]
  },
  {
   "cell_type": "code",
   "execution_count": 29,
   "id": "328215ac-1e31-4c3f-b811-4619c3c35e3c",
   "metadata": {},
   "outputs": [],
   "source": [
    "yhat = model.predict_proba(testX)\n",
    "probs = yhat[:, 1]"
   ]
  },
  {
   "cell_type": "code",
   "execution_count": 34,
   "id": "c8d27c5e-a82a-4f41-9b35-5dce12b238bf",
   "metadata": {},
   "outputs": [
    {
     "name": "stdout",
     "output_type": "stream",
     "text": [
      "              precision    recall  f1-score   support\n",
      "\n",
      "           0       1.00      1.00      1.00      4950\n",
      "           1       0.83      0.68      0.75        50\n",
      "\n",
      "    accuracy                           1.00      5000\n",
      "   macro avg       0.91      0.84      0.87      5000\n",
      "weighted avg       1.00      1.00      1.00      5000\n",
      "\n"
     ]
    }
   ],
   "source": [
    "print(classification_report(testy, [1 if i>0.25 else 0 for i in list(probs)]))"
   ]
  },
  {
   "cell_type": "markdown",
   "id": "2b90b855-7aea-4fd7-acd9-ccd7044d036c",
   "metadata": {},
   "source": [
    "##### we found that changing threshold have impact on model f1 score"
   ]
  },
  {
   "cell_type": "code",
   "execution_count": null,
   "id": "a2a80bdd-181d-434c-a5d8-3554a83739d2",
   "metadata": {},
   "outputs": [],
   "source": []
  }
 ],
 "metadata": {
  "kernelspec": {
   "display_name": "metrics",
   "language": "python",
   "name": "metrics"
  },
  "language_info": {
   "codemirror_mode": {
    "name": "ipython",
    "version": 3
   },
   "file_extension": ".py",
   "mimetype": "text/x-python",
   "name": "python",
   "nbconvert_exporter": "python",
   "pygments_lexer": "ipython3",
   "version": "3.11.2"
  }
 },
 "nbformat": 4,
 "nbformat_minor": 5
}
